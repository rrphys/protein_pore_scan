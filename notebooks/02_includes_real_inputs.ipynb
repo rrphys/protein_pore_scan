{
 "cells": [
  {
   "cell_type": "code",
   "execution_count": 1,
   "metadata": {},
   "outputs": [
    {
     "name": "stdout",
     "output_type": "stream",
     "text": [
      "Python 3.8.10\n"
     ]
    }
   ],
   "source": [
    "!python --version"
   ]
  },
  {
   "cell_type": "code",
   "execution_count": 2,
   "metadata": {},
   "outputs": [],
   "source": [
    "import numpy as np\n",
    "import pandas as pd\n",
    "import matplotlib.pyplot as plt"
   ]
  },
  {
   "cell_type": "code",
   "execution_count": 3,
   "metadata": {},
   "outputs": [],
   "source": [
    "aa_chars = ['L', 'K', 'M', 'F']\n",
    "\n",
    "aa2charge = {'L':0, 'K':1, 'M':-1, 'F':-.2}\n",
    "aa2volume = {'L':0.1, 'K':0.13, 'M':0.11, 'F':0.12}\n",
    "\n",
    "pore_length_in_aa = 20"
   ]
  },
  {
   "cell_type": "code",
   "execution_count": 4,
   "metadata": {},
   "outputs": [],
   "source": [
    "zero_charge_test_sequence = ['L' for _ in range(10)]\n",
    "constant_charge_test_sequence = ['K' for _ in range(10)]"
   ]
  },
  {
   "cell_type": "code",
   "execution_count": 5,
   "metadata": {},
   "outputs": [
    {
     "name": "stdout",
     "output_type": "stream",
     "text": [
      "['L', 'K', 'M', 'F']\n",
      "[0, 1, -1, -0.2]\n",
      "[0.1, 0.13, 0.11, 0.12]\n"
     ]
    }
   ],
   "source": [
    "short_test_sequence = [x for x in 'LKMF']\n",
    "short_test_charge = [aa2charge[x] for x in short_test_sequence]\n",
    "short_test_volume = [aa2volume[x] for x in short_test_sequence]\n",
    "print(short_test_sequence)\n",
    "print(short_test_charge)\n",
    "print(short_test_volume)"
   ]
  },
  {
   "cell_type": "code",
   "execution_count": 6,
   "metadata": {},
   "outputs": [
    {
     "name": "stdout",
     "output_type": "stream",
     "text": [
      "['M' 'F' 'L' 'M' 'M' 'F' 'L' 'L' 'M' 'K' 'M' 'M' 'M' 'M' 'F' 'L' 'F' 'F'\n",
      " 'F' 'M' 'K' 'L' 'K' 'F' 'F' 'K' 'K' 'K' 'F' 'F' 'L' 'L' 'F' 'K' 'K' 'L'\n",
      " 'F' 'L' 'L' 'M' 'M' 'M' 'K' 'F' 'F' 'F' 'F' 'M' 'K' 'K' 'M' 'K' 'M' 'F'\n",
      " 'M' 'F' 'F' 'L' 'M' 'L' 'M' 'M' 'L' 'L' 'M' 'K' 'F' 'L' 'F' 'K' 'K' 'K'\n",
      " 'L' 'K' 'L' 'K' 'F' 'F' 'M' 'F' 'M' 'F' 'L' 'F' 'M' 'M' 'K' 'L' 'F' 'K'\n",
      " 'F' 'F' 'K' 'K' 'K' 'K' 'K' 'F' 'K' 'L']\n",
      "[-1, -0.2, 0, -1, -1, -0.2, 0, 0, -1, 1, -1, -1, -1, -1, -0.2, 0, -0.2, -0.2, -0.2, -1, 1, 0, 1, -0.2, -0.2, 1, 1, 1, -0.2, -0.2, 0, 0, -0.2, 1, 1, 0, -0.2, 0, 0, -1, -1, -1, 1, -0.2, -0.2, -0.2, -0.2, -1, 1, 1, -1, 1, -1, -0.2, -1, -0.2, -0.2, 0, -1, 0, -1, -1, 0, 0, -1, 1, -0.2, 0, -0.2, 1, 1, 1, 0, 1, 0, 1, -0.2, -0.2, -1, -0.2, -1, -0.2, 0, -0.2, -1, -1, 1, 0, -0.2, 1, -0.2, -0.2, 1, 1, 1, 1, 1, -0.2, 1, 0]\n",
      "[0.11, 0.12, 0.1, 0.11, 0.11, 0.12, 0.1, 0.1, 0.11, 0.13, 0.11, 0.11, 0.11, 0.11, 0.12, 0.1, 0.12, 0.12, 0.12, 0.11, 0.13, 0.1, 0.13, 0.12, 0.12, 0.13, 0.13, 0.13, 0.12, 0.12, 0.1, 0.1, 0.12, 0.13, 0.13, 0.1, 0.12, 0.1, 0.1, 0.11, 0.11, 0.11, 0.13, 0.12, 0.12, 0.12, 0.12, 0.11, 0.13, 0.13, 0.11, 0.13, 0.11, 0.12, 0.11, 0.12, 0.12, 0.1, 0.11, 0.1, 0.11, 0.11, 0.1, 0.1, 0.11, 0.13, 0.12, 0.1, 0.12, 0.13, 0.13, 0.13, 0.1, 0.13, 0.1, 0.13, 0.12, 0.12, 0.11, 0.12, 0.11, 0.12, 0.1, 0.12, 0.11, 0.11, 0.13, 0.1, 0.12, 0.13, 0.12, 0.12, 0.13, 0.13, 0.13, 0.13, 0.13, 0.12, 0.13, 0.1]\n"
     ]
    }
   ],
   "source": [
    "np.random.seed(42)\n",
    "long_random_test_sequence = np.random.choice(aa_chars, 100)\n",
    "long_random_test_charge = [aa2charge[x] for x in long_random_test_sequence]\n",
    "long_random_test_volume = [aa2volume[x] for x in long_random_test_sequence]\n",
    "print(long_random_test_sequence)\n",
    "print(long_random_test_charge)\n",
    "print(long_random_test_volume)"
   ]
  },
  {
   "cell_type": "code",
   "execution_count": 7,
   "metadata": {},
   "outputs": [],
   "source": [
    "#get charge in pore vs aa position\n",
    "#pad the sequence with zero\n",
    "#find the charge in the pore vs position\n",
    "#output charge in the pore vs postion\n",
    "\n"
   ]
  },
  {
   "cell_type": "code",
   "execution_count": 8,
   "metadata": {},
   "outputs": [],
   "source": [
    "def charge_sequence_from_aa_chars(aa_char_sequence, aa2charge):\n",
    "    return [aa2charge[x] for x in aa_char_sequence]\n",
    "\n",
    "def volume_sequence_from_aa_chars(aa_char_sequence, aa2volume):\n",
    "    return [aa2volume[x] for x in aa_char_sequence]\n",
    "\n",
    "def zero_pad_sequence(sequence, pore_length_in_aa):\n",
    "    return [0]*pore_length_in_aa + sequence + [0]*pore_length_in_aa\n",
    "\n",
    "sequence = short_test_sequence\n",
    "charge_sequence = charge_sequence_from_aa_chars(sequence, aa2charge)\n",
    "volume_sequence = volume_sequence_from_aa_chars(sequence, aa2volume)\n",
    "padded_sequence = zero_pad_sequence(sequence=charge_sequence, pore_length_in_aa=pore_length_in_aa)"
   ]
  },
  {
   "cell_type": "code",
   "execution_count": 9,
   "metadata": {},
   "outputs": [],
   "source": [
    "def get_charge_in_pore_vs_aa_idx(aa_char_sequence, aa2charge, pore_length_in_aa):\n",
    "    charge_sequence = charge_sequence_from_aa_chars(aa_char_sequence, aa2charge)\n",
    "    padded_charge_sequence = zero_pad_sequence(charge_sequence, pore_length_in_aa)\n",
    "    \n",
    "    charge_in_pore_vs_idx = []\n",
    "    for aa_idx in range(0, len(padded_charge_sequence) - pore_length_in_aa):\n",
    "        charge_in_pore = sum(padded_charge_sequence[aa_idx: aa_idx+pore_length_in_aa])\n",
    "        charge_in_pore_vs_idx.append(charge_in_pore)\n",
    "    return charge_in_pore_vs_idx\n",
    "\n",
    "def get_volume_in_pore_vs_aa_idx(aa_char_sequence, aa2charge, pore_length_in_aa):\n",
    "    volume_sequence = volume_sequence_from_aa_chars(aa_char_sequence, aa2charge)\n",
    "    padded_volume_sequence = zero_pad_sequence(volume_sequence, pore_length_in_aa)\n",
    "    \n",
    "    volume_in_pore_vs_idx = []\n",
    "    for aa_idx in range(0, len(padded_volume_sequence) - pore_length_in_aa):\n",
    "        volume_in_pore = sum(padded_volume_sequence[aa_idx: aa_idx+pore_length_in_aa])\n",
    "        volume_in_pore_vs_idx.append(volume_in_pore)\n",
    "    return volume_in_pore_vs_idx\n"
   ]
  },
  {
   "cell_type": "code",
   "execution_count": 10,
   "metadata": {},
   "outputs": [
    {
     "data": {
      "image/png": "[encoded data removed]",
      "text/plain": [
       "<Figure size 432x288 with 1 Axes>"
      ]
     },
     "metadata": {
      "needs_background": "light"
     },
     "output_type": "display_data"
    }
   ],
   "source": [
    "plt.plot(get_charge_in_pore_vs_aa_idx(long_random_test_sequence, aa2charge, pore_length_in_aa))\n",
    "plt.show()"
   ]
  },
  {
   "cell_type": "code",
   "execution_count": 11,
   "metadata": {},
   "outputs": [
    {
     "data": {
      "image/png": "[encoded data removed]",
      "text/plain": [
       "<Figure size 432x288 with 1 Axes>"
      ]
     },
     "metadata": {
      "needs_background": "light"
     },
     "output_type": "display_data"
    }
   ],
   "source": [
    "plt.plot(get_volume_in_pore_vs_aa_idx(long_random_test_sequence, aa2volume, pore_length_in_aa))\n",
    "plt.show()"
   ]
  },
  {
   "cell_type": "code",
   "execution_count": null,
   "metadata": {},
   "outputs": [],
   "source": []
  }
 ],
 "metadata": {
  "kernelspec": {
   "display_name": "Python 3",
   "language": "python",
   "name": "python3"
  },
  "language_info": {
   "codemirror_mode": {
    "name": "ipython",
    "version": 3
   },
   "file_extension": ".py",
   "mimetype": "text/x-python",
   "name": "python",
   "nbconvert_exporter": "python",
   "pygments_lexer": "ipython3",
   "version": "3.7.2"
  }
 },
 "nbformat": 4,
 "nbformat_minor": 2
}

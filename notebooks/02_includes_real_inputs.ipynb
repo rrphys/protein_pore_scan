{
 "cells": [
  {
   "cell_type": "code",
   "execution_count": 4,
   "metadata": {},
   "outputs": [],
   "source": [
    "import numpy as np\n",
    "import pandas as pd\n",
    "import matplotlib.pyplot as plt"
   ]
  },
  {
   "cell_type": "code",
   "execution_count": 5,
   "metadata": {},
   "outputs": [],
   "source": [
    "aa_chars = ['L', 'K', 'M', 'F']\n",
    "\n",
    "aa2charge = {'L':0, 'K':1, 'M':-1, 'F':-.2}\n",
    "aa2volume = {'L':0.1, 'K':0.13, 'M':0.11, 'F':0.12}\n",
    "\n",
    "pore_length_in_aa = 20"
   ]
  },
  {
   "cell_type": "code",
   "execution_count": 6,
   "metadata": {},
   "outputs": [],
   "source": [
    "zero_charge_test_sequence = ['L' for _ in range(10)]\n",
    "constant_charge_test_sequence = ['K' for _ in range(10)]"
   ]
  },
  {
   "cell_type": "code",
   "execution_count": 7,
   "metadata": {},
   "outputs": [
    {
     "name": "stdout",
     "output_type": "stream",
     "text": [
      "['L', 'K', 'M', 'F']\n",
      "[0, 1, -1, -0.2]\n",
      "[0.1, 0.13, 0.11, 0.12]\n"
     ]
    }
   ],
   "source": [
    "short_test_sequence = [x for x in 'LKMF']\n",
    "short_test_charge = [aa2charge[x] for x in short_test_sequence]\n",
    "short_test_volume = [aa2volume[x] for x in short_test_sequence]\n",
    "print(short_test_sequence)\n",
    "print(short_test_charge)\n",
    "print(short_test_volume)"
   ]
  },
  {
   "cell_type": "code",
   "execution_count": 71,
   "metadata": {},
   "outputs": [],
   "source": [
    "np.random.seed(42)\n",
    "long_random_test_sequence = np.random.choice(aa_chars, 100)\n",
    "long_random_test_charge = [aa2charge[x] for x in long_random_test_sequence]\n",
    "long_random_test_volume = [aa2volume[x] for x in long_random_test_sequence]"
   ]
  },
  {
   "cell_type": "code",
   "execution_count": 72,
   "metadata": {},
   "outputs": [],
   "source": [
    "#get charge in pore vs aa position\n",
    "#pad the sequence with zero\n",
    "#find the charge in the pore vs position\n",
    "#output charge in the pore vs postion\n",
    "\n"
   ]
  },
  {
   "cell_type": "code",
   "execution_count": 73,
   "metadata": {},
   "outputs": [],
   "source": [
    "def charge_sequence_from_aa_chars(aa_char_sequence, aa2charge):\n",
    "    return [aa2charge[x] for x in aa_char_sequence]\n",
    "\n",
    "def volume_sequence_from_aa_chars(aa_char_sequence, aa2volume):\n",
    "    return [aa2volume[x] for x in aa_char_sequence]\n",
    "\n",
    "def zero_pad_sequence(sequence, pore_length_in_aa):\n",
    "    return [0]*pore_length_in_aa + sequence + [0]*pore_length_in_aa\n",
    "\n",
    "sequence = short_test_sequence\n",
    "charge_sequence = charge_sequence_from_aa_chars(sequence, aa2charge)\n",
    "volume_sequence = volume_sequence_from_aa_chars(sequence, aa2volume)\n",
    "padded_sequence = zero_pad_sequence(sequence=charge_sequence, pore_length_in_aa=pore_length_in_aa)"
   ]
  },
  {
   "cell_type": "code",
   "execution_count": 74,
   "metadata": {},
   "outputs": [],
   "source": [
    "def get_charge_in_pore_vs_aa_idx(aa_char_sequence, aa2charge, pore_length_in_aa):\n",
    "    charge_sequence = charge_sequence_from_aa_chars(aa_char_sequence, aa2charge)\n",
    "    padded_charge_sequence = zero_pad_sequence(charge_sequence, pore_length_in_aa)\n",
    "    \n",
    "    charge_in_pore_vs_idx = []\n",
    "    for aa_idx in range(0, len(padded_charge_sequence) - pore_length_in_aa):\n",
    "        charge_in_pore = sum(padded_charge_sequence[aa_idx: aa_idx+pore_length_in_aa])\n",
    "        charge_in_pore_vs_idx.append(charge_in_pore)\n",
    "    return charge_in_pore_vs_idx\n",
    "\n",
    "def get_volume_in_pore_vs_aa_idx(aa_char_sequence, aa2volume, pore_length_in_aa):\n",
    "    volume_sequence = volume_sequence_from_aa_chars(aa_char_sequence, aa2volume)\n",
    "    padded_volume_sequence = zero_pad_sequence(volume_sequence, pore_length_in_aa)\n",
    "    \n",
    "    volume_in_pore_vs_idx = []\n",
    "    for aa_idx in range(0, len(padded_volume_sequence) - pore_length_in_aa):\n",
    "        volume_in_pore = sum(padded_volume_sequence[aa_idx: aa_idx+pore_length_in_aa])\n",
    "        volume_in_pore_vs_idx.append(volume_in_pore)\n",
    "    return volume_in_pore_vs_idx\n"
   ]
  },
  {
   "cell_type": "code",
   "execution_count": 75,
   "metadata": {},
   "outputs": [
    {
     "data": {
      "image/png": "[encoded data removed]",
      "text/plain": [
       "<Figure size 432x288 with 1 Axes>"
      ]
     },
     "metadata": {
      "needs_background": "light"
     },
     "output_type": "display_data"
    }
   ],
   "source": [
    "plt.plot(get_charge_in_pore_vs_aa_idx(long_random_test_sequence, aa2charge, pore_length_in_aa))\n",
    "plt.show()"
   ]
  },
  {
   "cell_type": "code",
   "execution_count": 76,
   "metadata": {},
   "outputs": [
    {
     "data": {
      "image/png": "[encoded data removed]",
      "text/plain": [
       "<Figure size 432x288 with 1 Axes>"
      ]
     },
     "metadata": {
      "needs_background": "light"
     },
     "output_type": "display_data"
    }
   ],
   "source": [
    "plt.plot(get_volume_in_pore_vs_aa_idx(long_random_test_sequence, aa2volume, pore_length_in_aa))\n",
    "plt.show()"
   ]
  },
  {
   "cell_type": "code",
   "execution_count": 77,
   "metadata": {},
   "outputs": [
    {
     "data": {
      "text/html": [
       "<div>\n",
       "<style scoped>\n",
       "    .dataframe tbody tr th:only-of-type {\n",
       "        vertical-align: middle;\n",
       "    }\n",
       "\n",
       "    .dataframe tbody tr th {\n",
       "        vertical-align: top;\n",
       "    }\n",
       "\n",
       "    .dataframe thead th {\n",
       "        text-align: right;\n",
       "    }\n",
       "</style>\n",
       "<table border=\"1\" class=\"dataframe\">\n",
       "  <thead>\n",
       "    <tr style=\"text-align: right;\">\n",
       "      <th></th>\n",
       "      <th>Position</th>\n",
       "      <th>Unnamed: 1</th>\n",
       "      <th>Residue</th>\n",
       "      <th>Charge</th>\n",
       "      <th>MW</th>\n",
       "      <th>Volume</th>\n",
       "    </tr>\n",
       "  </thead>\n",
       "  <tbody>\n",
       "    <tr>\n",
       "      <th>0</th>\n",
       "      <td>1</td>\n",
       "      <td>NaN</td>\n",
       "      <td>M</td>\n",
       "      <td>0.0</td>\n",
       "      <td>149.21</td>\n",
       "      <td>0.180843</td>\n",
       "    </tr>\n",
       "    <tr>\n",
       "      <th>1</th>\n",
       "      <td>2</td>\n",
       "      <td>NaN</td>\n",
       "      <td>A</td>\n",
       "      <td>0.0</td>\n",
       "      <td>89.09</td>\n",
       "      <td>0.107977</td>\n",
       "    </tr>\n",
       "    <tr>\n",
       "      <th>2</th>\n",
       "      <td>3</td>\n",
       "      <td>NaN</td>\n",
       "      <td>E</td>\n",
       "      <td>-1.0</td>\n",
       "      <td>147.13</td>\n",
       "      <td>0.178322</td>\n",
       "    </tr>\n",
       "    <tr>\n",
       "      <th>3</th>\n",
       "      <td>4</td>\n",
       "      <td>NaN</td>\n",
       "      <td>P</td>\n",
       "      <td>0.0</td>\n",
       "      <td>115.13</td>\n",
       "      <td>0.139538</td>\n",
       "    </tr>\n",
       "    <tr>\n",
       "      <th>4</th>\n",
       "      <td>5</td>\n",
       "      <td>NaN</td>\n",
       "      <td>R</td>\n",
       "      <td>1.0</td>\n",
       "      <td>174.20</td>\n",
       "      <td>0.211130</td>\n",
       "    </tr>\n",
       "    <tr>\n",
       "      <th>5</th>\n",
       "      <td>6</td>\n",
       "      <td>NaN</td>\n",
       "      <td>Q</td>\n",
       "      <td>0.0</td>\n",
       "      <td>146.15</td>\n",
       "      <td>0.177134</td>\n",
       "    </tr>\n",
       "    <tr>\n",
       "      <th>6</th>\n",
       "      <td>7</td>\n",
       "      <td>NaN</td>\n",
       "      <td>E</td>\n",
       "      <td>-1.0</td>\n",
       "      <td>147.13</td>\n",
       "      <td>0.178322</td>\n",
       "    </tr>\n",
       "    <tr>\n",
       "      <th>7</th>\n",
       "      <td>8</td>\n",
       "      <td>NaN</td>\n",
       "      <td>F</td>\n",
       "      <td>0.0</td>\n",
       "      <td>165.19</td>\n",
       "      <td>0.200210</td>\n",
       "    </tr>\n",
       "    <tr>\n",
       "      <th>8</th>\n",
       "      <td>9</td>\n",
       "      <td>NaN</td>\n",
       "      <td>E</td>\n",
       "      <td>-1.0</td>\n",
       "      <td>147.13</td>\n",
       "      <td>0.178322</td>\n",
       "    </tr>\n",
       "    <tr>\n",
       "      <th>9</th>\n",
       "      <td>10</td>\n",
       "      <td>NaN</td>\n",
       "      <td>V</td>\n",
       "      <td>0.0</td>\n",
       "      <td>117.15</td>\n",
       "      <td>0.141986</td>\n",
       "    </tr>\n",
       "  </tbody>\n",
       "</table>\n",
       "</div>"
      ],
      "text/plain": [
       "   Position  Unnamed: 1 Residue  Charge      MW    Volume\n",
       "0         1         NaN       M     0.0  149.21  0.180843\n",
       "1         2         NaN       A     0.0   89.09  0.107977\n",
       "2         3         NaN       E    -1.0  147.13  0.178322\n",
       "3         4         NaN       P     0.0  115.13  0.139538\n",
       "4         5         NaN       R     1.0  174.20  0.211130\n",
       "5         6         NaN       Q     0.0  146.15  0.177134\n",
       "6         7         NaN       E    -1.0  147.13  0.178322\n",
       "7         8         NaN       F     0.0  165.19  0.200210\n",
       "8         9         NaN       E    -1.0  147.13  0.178322\n",
       "9        10         NaN       V     0.0  117.15  0.141986"
      ]
     },
     "execution_count": 77,
     "metadata": {},
     "output_type": "execute_result"
    }
   ],
   "source": [
    "data_table = pd.read_csv('../data_raw/tau_sequence_data_2020-07-12.csv')\n",
    "data_table.head(10)"
   ]
  },
  {
   "cell_type": "code",
   "execution_count": 78,
   "metadata": {},
   "outputs": [],
   "source": [
    "sequence = data_table['Residue']\n",
    "charge_sequence = data_table['Charge']\n",
    "volume_sequence = data_table['Volume']"
   ]
  },
  {
   "cell_type": "code",
   "execution_count": 79,
   "metadata": {},
   "outputs": [],
   "source": [
    "#build aa2charge mapping\n",
    "aa2charge = {aa:charge for aa, charge in zip(sequence, charge_sequence)}\n",
    "aa2volume = {aa:volume for aa, volume in zip(sequence, volume_sequence)}"
   ]
  },
  {
   "cell_type": "code",
   "execution_count": 80,
   "metadata": {},
   "outputs": [
    {
     "data": {
      "text/plain": [
       "84.84848484848484"
      ]
     },
     "execution_count": 80,
     "metadata": {},
     "output_type": "execute_result"
    }
   ],
   "source": [
    "28/0.33"
   ]
  },
  {
   "cell_type": "code",
   "execution_count": 81,
   "metadata": {},
   "outputs": [
    {
     "data": {
      "image/png": "[encoded data removed]",
      "text/plain": [
       "<Figure size 432x288 with 1 Axes>"
      ]
     },
     "metadata": {
      "needs_background": "light"
     },
     "output_type": "display_data"
    }
   ],
   "source": [
    "plt.plot(get_charge_in_pore_vs_aa_idx(sequence, aa2charge, pore_length_in_aa=84))\n",
    "plt.show()"
   ]
  },
  {
   "cell_type": "code",
   "execution_count": 69,
   "metadata": {},
   "outputs": [
    {
     "data": {
      "image/png": "[encoded data removed]",
      "text/plain": [
       "<Figure size 432x288 with 1 Axes>"
      ]
     },
     "metadata": {
      "needs_background": "light"
     },
     "output_type": "display_data"
    }
   ],
   "source": [
    "plt.plot(get_volume_in_pore_vs_aa_idx(sequence, aa2volume, pore_length_in_aa=84))\n",
    "plt.show()"
   ]
  }
 ],
 "metadata": {
  "kernelspec": {
   "display_name": "Python 3",
   "language": "python",
   "name": "python3"
  },
  "language_info": {
   "codemirror_mode": {
    "name": "ipython",
    "version": 3
   },
   "file_extension": ".py",
   "mimetype": "text/x-python",
   "name": "python",
   "nbconvert_exporter": "python",
   "pygments_lexer": "ipython3",
   "version": "3.7.2"
  }
 },
 "nbformat": 4,
 "nbformat_minor": 2
}

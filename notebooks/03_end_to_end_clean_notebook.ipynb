{
 "cells": [
  {
   "cell_type": "code",
   "execution_count": 1,
   "metadata": {},
   "outputs": [],
   "source": [
    "import numpy as np\n",
    "import pandas as pd\n",
    "import matplotlib.pyplot as plt"
   ]
  },
  {
   "cell_type": "code",
   "execution_count": 29,
   "metadata": {},
   "outputs": [],
   "source": [
    "def charge_sequence_from_aa_chars(aa_char_sequence, aa2charge):\n",
    "    \"\"\"Helper function to convert AA residue sequence to charge sequence\"\"\"\n",
    "    return [aa2charge[x] for x in aa_char_sequence]\n",
    "\n",
    "def volume_sequence_from_aa_chars(aa_char_sequence, aa2volume):\n",
    "    \"\"\"Helper function to convert AA residue sequence to volume sequence\"\"\"\n",
    "    return [aa2volume[x] for x in aa_char_sequence]\n",
    "\n",
    "def zero_pad_sequence(sequence, pore_length_in_aa):\n",
    "    \"\"\"\n",
    "    Zero pad charge, volume, or residue sequence with zeros of pore length.\n",
    "    This helps with calculating the insertion and removal of the protein from\n",
    "    the pore\n",
    "    \"\"\"\n",
    "    return [0]*pore_length_in_aa + sequence + [0]*pore_length_in_aa\n",
    "\n",
    "def get_charge_in_pore_vs_aa_idx(aa_char_sequence, aa2charge, pore_length_in_aa):\n",
    "    \"\"\"\n",
    "    Calculates the charge in the nanopore vs amino acid index. We're assuming that\n",
    "    the protein moves through as an unfolded rigid rod and as a fixed charged \n",
    "    described by the aa2charge mapping and that the pore is of length\n",
    "    pore_length_in_aa where the pore length is in amino-acid spacing units of\n",
    "    roughtly 0.33 nm. That means that a 10nm pore would have up to 33 amino acids\n",
    "    inside.\n",
    "    \n",
    "    As an illustrative example, imagine 1 nm nanopore that (in this simplistic model)\n",
    "    fits just three amino acids as shown below and that the molecule is moving from\n",
    "    left to right.\n",
    "\n",
    "        |          |\n",
    "        |          |\n",
    "        |----------|\n",
    "  \n",
    "     0   0  -1   0   1   0\n",
    "     M   A   E   P   R   Q\n",
    "\n",
    "        |----------|\n",
    "        |          |\n",
    "        |          |\n",
    "        \n",
    "    The total charge inside the pore is -1. Because the fifth amino acid 'A' has just \n",
    "    entered this model puts a charge of -1 at index 5.\n",
    "    \n",
    "    \"\"\"\n",
    "    \n",
    "    charge_sequence = charge_sequence_from_aa_chars(aa_char_sequence, aa2charge)\n",
    "    padded_charge_sequence = zero_pad_sequence(charge_sequence, pore_length_in_aa)\n",
    "    \n",
    "    charge_in_pore_vs_idx = []\n",
    "    for aa_idx in range(0, len(padded_charge_sequence) - pore_length_in_aa):\n",
    "        charge_in_pore = sum(padded_charge_sequence[aa_idx: aa_idx+pore_length_in_aa])\n",
    "        charge_in_pore_vs_idx.append(charge_in_pore)\n",
    "    return charge_in_pore_vs_idx\n",
    "\n",
    "def get_volume_in_pore_vs_aa_idx(aa_char_sequence, aa2volume, pore_length_in_aa):\n",
    "    \"\"\"\n",
    "    Calculates the charge in the nanopore vs amino acid index. Identical\n",
    "    to get_charge_in_pore_vs_aa_idx but replaces aa2charge with aa2volume.\n",
    "    \"\"\"\n",
    "    volume_sequence = volume_sequence_from_aa_chars(aa_char_sequence, aa2volume)\n",
    "    padded_volume_sequence = zero_pad_sequence(volume_sequence, pore_length_in_aa)\n",
    "    \n",
    "    volume_in_pore_vs_idx = []\n",
    "    for aa_idx in range(0, len(padded_volume_sequence) - pore_length_in_aa):\n",
    "        volume_in_pore = sum(padded_volume_sequence[aa_idx: aa_idx+pore_length_in_aa])\n",
    "        volume_in_pore_vs_idx.append(volume_in_pore)\n",
    "    return volume_in_pore_vs_idx\n"
   ]
  },
  {
   "cell_type": "code",
   "execution_count": 34,
   "metadata": {},
   "outputs": [
    {
     "data": {
      "text/html": [
       "<div>\n",
       "<style scoped>\n",
       "    .dataframe tbody tr th:only-of-type {\n",
       "        vertical-align: middle;\n",
       "    }\n",
       "\n",
       "    .dataframe tbody tr th {\n",
       "        vertical-align: top;\n",
       "    }\n",
       "\n",
       "    .dataframe thead th {\n",
       "        text-align: right;\n",
       "    }\n",
       "</style>\n",
       "<table border=\"1\" class=\"dataframe\">\n",
       "  <thead>\n",
       "    <tr style=\"text-align: right;\">\n",
       "      <th></th>\n",
       "      <th>Position</th>\n",
       "      <th>Unnamed: 1</th>\n",
       "      <th>Residue</th>\n",
       "      <th>Charge</th>\n",
       "      <th>MW</th>\n",
       "      <th>Volume</th>\n",
       "    </tr>\n",
       "  </thead>\n",
       "  <tbody>\n",
       "    <tr>\n",
       "      <th>0</th>\n",
       "      <td>1</td>\n",
       "      <td>NaN</td>\n",
       "      <td>M</td>\n",
       "      <td>0.0</td>\n",
       "      <td>149.21</td>\n",
       "      <td>0.180843</td>\n",
       "    </tr>\n",
       "    <tr>\n",
       "      <th>1</th>\n",
       "      <td>2</td>\n",
       "      <td>NaN</td>\n",
       "      <td>A</td>\n",
       "      <td>0.0</td>\n",
       "      <td>89.09</td>\n",
       "      <td>0.107977</td>\n",
       "    </tr>\n",
       "    <tr>\n",
       "      <th>2</th>\n",
       "      <td>3</td>\n",
       "      <td>NaN</td>\n",
       "      <td>E</td>\n",
       "      <td>-1.0</td>\n",
       "      <td>147.13</td>\n",
       "      <td>0.178322</td>\n",
       "    </tr>\n",
       "    <tr>\n",
       "      <th>3</th>\n",
       "      <td>4</td>\n",
       "      <td>NaN</td>\n",
       "      <td>P</td>\n",
       "      <td>0.0</td>\n",
       "      <td>115.13</td>\n",
       "      <td>0.139538</td>\n",
       "    </tr>\n",
       "    <tr>\n",
       "      <th>4</th>\n",
       "      <td>5</td>\n",
       "      <td>NaN</td>\n",
       "      <td>R</td>\n",
       "      <td>1.0</td>\n",
       "      <td>174.20</td>\n",
       "      <td>0.211130</td>\n",
       "    </tr>\n",
       "    <tr>\n",
       "      <th>5</th>\n",
       "      <td>6</td>\n",
       "      <td>NaN</td>\n",
       "      <td>Q</td>\n",
       "      <td>0.0</td>\n",
       "      <td>146.15</td>\n",
       "      <td>0.177134</td>\n",
       "    </tr>\n",
       "    <tr>\n",
       "      <th>6</th>\n",
       "      <td>7</td>\n",
       "      <td>NaN</td>\n",
       "      <td>E</td>\n",
       "      <td>-1.0</td>\n",
       "      <td>147.13</td>\n",
       "      <td>0.178322</td>\n",
       "    </tr>\n",
       "    <tr>\n",
       "      <th>7</th>\n",
       "      <td>8</td>\n",
       "      <td>NaN</td>\n",
       "      <td>F</td>\n",
       "      <td>0.0</td>\n",
       "      <td>165.19</td>\n",
       "      <td>0.200210</td>\n",
       "    </tr>\n",
       "    <tr>\n",
       "      <th>8</th>\n",
       "      <td>9</td>\n",
       "      <td>NaN</td>\n",
       "      <td>E</td>\n",
       "      <td>-1.0</td>\n",
       "      <td>147.13</td>\n",
       "      <td>0.178322</td>\n",
       "    </tr>\n",
       "    <tr>\n",
       "      <th>9</th>\n",
       "      <td>10</td>\n",
       "      <td>NaN</td>\n",
       "      <td>V</td>\n",
       "      <td>0.0</td>\n",
       "      <td>117.15</td>\n",
       "      <td>0.141986</td>\n",
       "    </tr>\n",
       "  </tbody>\n",
       "</table>\n",
       "</div>"
      ],
      "text/plain": [
       "   Position  Unnamed: 1 Residue  Charge      MW    Volume\n",
       "0         1         NaN       M     0.0  149.21  0.180843\n",
       "1         2         NaN       A     0.0   89.09  0.107977\n",
       "2         3         NaN       E    -1.0  147.13  0.178322\n",
       "3         4         NaN       P     0.0  115.13  0.139538\n",
       "4         5         NaN       R     1.0  174.20  0.211130\n",
       "5         6         NaN       Q     0.0  146.15  0.177134\n",
       "6         7         NaN       E    -1.0  147.13  0.178322\n",
       "7         8         NaN       F     0.0  165.19  0.200210\n",
       "8         9         NaN       E    -1.0  147.13  0.178322\n",
       "9        10         NaN       V     0.0  117.15  0.141986"
      ]
     },
     "execution_count": 34,
     "metadata": {},
     "output_type": "execute_result"
    }
   ],
   "source": [
    "#loading the data and taking a peek to see if it looks good, which it does\n",
    "data_table = pd.read_csv('../data_raw/tau_sequence_data_2020-07-12.csv')\n",
    "data_table.head(10)"
   ]
  },
  {
   "cell_type": "code",
   "execution_count": 35,
   "metadata": {},
   "outputs": [],
   "source": [
    "#extract amino acid residue sequence, charge sequence, and volume sequence\n",
    "sequence = data_table['Residue']\n",
    "charge_sequence = data_table['Charge']\n",
    "volume_sequence = data_table['Volume']"
   ]
  },
  {
   "cell_type": "code",
   "execution_count": 26,
   "metadata": {},
   "outputs": [],
   "source": [
    "#build aa2charge and aa2volume mapping\n",
    "aa2charge = {aa:charge for aa, charge in zip(sequence, charge_sequence)}\n",
    "aa2volume = {aa:volume for aa, volume in zip(sequence, volume_sequence)}"
   ]
  },
  {
   "cell_type": "code",
   "execution_count": 32,
   "metadata": {},
   "outputs": [
    {
     "data": {
      "image/png": "[encoded data removed]",
      "text/plain": [
       "<Figure size 432x288 with 1 Axes>"
      ]
     },
     "metadata": {
      "needs_background": "light"
     },
     "output_type": "display_data"
    }
   ],
   "source": [
    "plt.plot(get_charge_in_pore_vs_aa_idx(sequence, aa2charge, pore_length_in_aa=84))\n",
    "plt.xlabel('Amino Acid index')\n",
    "plt.ylabel('Charge in pore (e)')\n",
    "plt.show()"
   ]
  },
  {
   "cell_type": "code",
   "execution_count": 33,
   "metadata": {},
   "outputs": [
    {
     "data": {
      "image/png": "[encoded data removed]",
      "text/plain": [
       "<Figure size 432x288 with 1 Axes>"
      ]
     },
     "metadata": {
      "needs_background": "light"
     },
     "output_type": "display_data"
    }
   ],
   "source": [
    "plt.plot(get_volume_in_pore_vs_aa_idx(sequence, aa2volume, pore_length_in_aa=84))\n",
    "plt.xlabel('Amino Acid index')\n",
    "plt.ylabel('Volume in pore (Mitu Units)')\n",
    "plt.show()"
   ]
  },
  {
   "cell_type": "code",
   "execution_count": null,
   "metadata": {},
   "outputs": [],
   "source": []
  }
 ],
 "metadata": {
  "kernelspec": {
   "display_name": "Python 3",
   "language": "python",
   "name": "python3"
  },
  "language_info": {
   "codemirror_mode": {
    "name": "ipython",
    "version": 3
   },
   "file_extension": ".py",
   "mimetype": "text/x-python",
   "name": "python",
   "nbconvert_exporter": "python",
   "pygments_lexer": "ipython3",
   "version": "3.7.2"
  }
 },
 "nbformat": 4,
 "nbformat_minor": 2
}
